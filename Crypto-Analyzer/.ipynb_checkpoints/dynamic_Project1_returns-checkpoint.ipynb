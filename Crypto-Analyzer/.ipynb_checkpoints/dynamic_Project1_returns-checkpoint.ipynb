{
 "cells": [
  {
   "cell_type": "code",
   "execution_count": null,
   "metadata": {},
   "outputs": [],
   "source": [
    "import pandas as pd\n",
    "import numpy as np\n",
    "from datetime import date,timedelta\n",
    "import pandas_datareader as pdr\n",
    "import matplotlib.pyplot as plt\n",
    "import hvplot.pandas\n",
    "\n",
    "%matplotlib inline"
   ]
  },
  {
   "cell_type": "code",
   "execution_count": null,
   "metadata": {},
   "outputs": [],
   "source": [
    "# from pandas_datareader import data as pdr\n",
    "# from statsmodels.graphics.gofplots import qqplot\n",
    "# from scipy.stats import normaltest\n",
    "# from scipy.stats import anderson\n",
    "# import scipy.stats\n",
    "# import plotly.graph_objs as go\n",
    "# import plotly.express as px\n",
    "# from yahoofinancials import YahooFinancials"
   ]
  },
  {
   "cell_type": "code",
   "execution_count": null,
   "metadata": {},
   "outputs": [],
   "source": [
    "#Init time period\n",
    "start_date = date(2010, 10, 1)\n",
    "end_date = date.today() - timedelta(days=1)"
   ]
  },
  {
   "cell_type": "code",
   "execution_count": null,
   "metadata": {},
   "outputs": [],
   "source": [
    "class Yahoo_Prices:\n",
    "    \n",
    "    def __init__(self):\n",
    "        pass\n",
    "    \n",
    "    @classmethod\n",
    "    def get(self,start_date,end_date,ticker_list=''):\n",
    "\n",
    "        \"\"\" Gets yahoo price data for a given crypto/currency pair(ie.BTC-USD) within the \n",
    "        start and end date period. Returns a dictonary of dfs for each closing price.\n",
    "        \n",
    "        Parameters\n",
    "        ----------\n",
    "        date_start: starting date as MM-DD-YYYY format.\n",
    "        date_end: ending date as MM-DD-YYYY format\n",
    "        ticker_list: Single or list of ticker/cypto-currency pair(BTC-USD)\n",
    "        \n",
    "        example: prices = Yahoo_Prices.get(start_date,end_date,['BTC-USD','ETH-USD','LTC-USD','AMD','YUM'])\"\"\"\n",
    "\n",
    "        #Calls the api for each item in the asset list. Stores list index as key, response as value. \n",
    "        price_df_dict = {i:pdr.get_data_yahoo(i,start_date,end_date)['Close'].to_frame() for i in ticker_list}\n",
    "\n",
    "        #Dictonary of dfs concatenated to single df. \n",
    "        dataframe = pd.concat(price_df_dict,axis=1,join='inner')\n",
    "\n",
    "        return dataframe\n",
    "    \n",
    "    @classmethod\n",
    "    def get_csv(dataframe):\n",
    "        pass"
   ]
  },
  {
   "cell_type": "code",
   "execution_count": null,
   "metadata": {},
   "outputs": [],
   "source": [
    "class Returns:\n",
    "    \n",
    "    @classmethod\n",
    "    def get(self,dataframe):\n",
    "        \n",
    "        \"\"\"Calculates the following returns for each asset in dataframe and creates a new dataframe for each.\n",
    "        Returns a dictonary containing all calc types as key and result as value. \n",
    "        ---------\n",
    "        'Daily Returns,'Daily Returns Avg','Daily Returns Cum','Daily Returns Std','Log Returns',\n",
    "        'Log Returns Avg','Log Returns Std'\n",
    "        --------\n",
    "        example: returns = Returns.get(df name)\n",
    "        To retrive daily reutns: returns['Daily Returns']\n",
    "        To retrieve daily returns std: returns['Daily Returns Std']\n",
    "        \n",
    "        Parameters\n",
    "        ----------\n",
    "        Dataframe of closing prices. \n",
    "        \"\"\"\n",
    "        \n",
    "        returns_dict = {\n",
    "                        'Daily Returns':dataframe.pct_change(),\n",
    "                        'Daily Returns Avg':dataframe.pct_change().mean(),\n",
    "                        'Daily Returns Cum': (1 + dataframe.pct_change()).cumprod(),\n",
    "                        'Daily Returns Std':dataframe.pct_change().std(),\n",
    "                        'Log Returns':np.log(dataframe/dataframe.shift(1)),\n",
    "                        'Log Returns Avg':np.log(dataframe/dataframe.shift(1).mean()),\n",
    "                        'Log Returns Std':np.log(dataframe/dataframe.shift(1).std())\n",
    "                        }\n",
    "\n",
    "        return returns_dict"
   ]
  },
  {
   "cell_type": "code",
   "execution_count": null,
   "metadata": {},
   "outputs": [],
   "source": [
    "assets = Yahoo_Prices.get(start_date,end_date,['BTC-USD','ETH-USD','AAPl','AMD','YUM'])"
   ]
  },
  {
   "cell_type": "code",
   "execution_count": null,
   "metadata": {},
   "outputs": [],
   "source": [
    "returns = Returns.get(assets)"
   ]
  },
  {
   "cell_type": "code",
   "execution_count": null,
   "metadata": {},
   "outputs": [],
   "source": [
    "assets.keys()"
   ]
  },
  {
   "cell_type": "code",
   "execution_count": null,
   "metadata": {},
   "outputs": [],
   "source": [
    "fig = plt.figure()\n",
    "fig.set_size_inches(10,3)\n",
    "BTC_df[\"Close\"].pct_change().plot()\n",
    "plt.title(\"Bitcoin Daily Returns\", weight=\"bold\");\n",
    "print(f\"Bitcoin Average Daily Return, {BTC_df_daily_returns_avg}\")\n",
    "print(f\"Bitcoin STD of Daily Returns, {BTC_df_daily_returns_STD}\")"
   ]
  },
  {
   "cell_type": "code",
   "execution_count": null,
   "metadata": {},
   "outputs": [],
   "source": [
    "BTC_df[\"Close\"].pct_change().hist(bins=150, density=True, histtype=\"stepfilled\", alpha=.5)\n",
    "plt.title(\"Histogram of Bitcoin Daily Returns\", weight=\"bold\")\n",
    "plt.xlabel(\"Daily Returns\")\n",
    "plt.ylabel(\"Frequency\")\n",
    "plt.yticks(range(0, 16))\n",
    "plt.xlim(xmin=-0.35, xmax = 0.45)\n",
    "print(f\"Bitcoin STD of Daily Returns, {BTC_df_daily_returns_STD}\")"
   ]
  },
  {
   "cell_type": "code",
   "execution_count": null,
   "metadata": {},
   "outputs": [],
   "source": [
    "fig = plt.figure()\n",
    "fig.set_size_inches(10,3)\n",
    "BTC_df_log_return.plot()\n",
    "plt.title(\"Bitcoin Log Returns\", weight=\"bold\");"
   ]
  },
  {
   "cell_type": "code",
   "execution_count": null,
   "metadata": {},
   "outputs": [],
   "source": [
    "BTC_df_log_return.hist(bins=150, density=True, histtype=\"stepfilled\", alpha=.5)\n",
    "plt.title(\"Histogram of Bitcoin Log Returns\", weight=\"bold\")\n",
    "plt.xlabel(\"Daily Log Returns\")\n",
    "plt.ylabel(\"Frequency\")\n",
    "plt.yticks(range(0, 20))\n",
    "plt.xlim(xmin=-0.40, xmax = 0.6)\n",
    "\n",
    "print(f\"Bitcoin Average Log return, {BTC_df_log_return_avg}\")\n",
    "print(f\"Bitcoin STD of Log returns, {BTC_df_log_return_STD}\")\n",
    "\n",
    "#qqplot(BTC_df_log_return, line='s')"
   ]
  },
  {
   "cell_type": "code",
   "execution_count": null,
   "metadata": {},
   "outputs": [],
   "source": [
    "Q = BTC_df_log_return\n",
    "scipy.stats.probplot(Q, dist=scipy.stats.norm, plot=plt.figure().add_subplot(111))\n",
    "plt.title(\"Normal QQ-plot of Bitcoin log returns\", weight=\"bold\");"
   ]
  },
  {
   "cell_type": "code",
   "execution_count": null,
   "metadata": {},
   "outputs": [],
   "source": []
  },
  {
   "cell_type": "code",
   "execution_count": null,
   "metadata": {},
   "outputs": [],
   "source": [
    "# compare distribution charts to cryptocurrency, Ethereum\n",
    "# calculate log returns and standard deviation \n",
    "ETH_df_close = ETH_df['Close']\n",
    "ETH_df_daily_return = ETH_df_close.pct_change()\n",
    "ETH_df_log_return = np.log(ETH_df_close/ETH_df_close.shift(1)) \n",
    "ETH_df_log_return_avg = ETH_df_log_return.mean()\n",
    "ETH_df_log_return_std = ETH_df_log_return.std()\n",
    "\n",
    "print(f\"Ethereum Average Log return, {ETH_df_log_return_avg}\")\n",
    "print(f\"Ethereum STD of Log returns, {ETH_df_log_return_std}\")\n",
    "\n",
    "ETH_df_log_return.hist(bins=100, density=True, histtype=\"stepfilled\", alpha=.5)\n",
    "plt.title(\"Histogram of Ethereum Log Returns\", weight=\"bold\")\n",
    "plt.xlabel(\"Daily Log Returns\")\n",
    "plt.ylabel(\"Frequency\")\n",
    "plt.yticks(range(0, 15))\n",
    "plt.xlim(xmin=-0.40, xmax = 0.6)\n",
    "plt.show()\n",
    "\n",
    "\n",
    "\n",
    "Q = ETH_df_log_return\n",
    "scipy.stats.probplot(Q, dist=scipy.stats.norm, plot=plt.figure().add_subplot(111))\n",
    "plt.title(\"Normal QQ-plot of Ethereum log returns\", weight=\"bold\");"
   ]
  },
  {
   "cell_type": "code",
   "execution_count": null,
   "metadata": {},
   "outputs": [],
   "source": [
    "# compare distribution charts to a low volatility stock, YUM\n",
    "# calculate log returns\n",
    "YUM_df_close = YUM_df['Close']\n",
    "YUM_df_log_return = np.log(YUM_df_close/YUM_df_close.shift(1)) \n",
    "YUM_df_log_return_avg = YUM_df_log_return.mean()\n",
    "YUM_df_log_return_std = YUM_df_log_return.std()\n",
    "\n",
    "print(f\"YUM Brands Average Log return, {YUM_df_log_return_avg}\")\n",
    "print(f\"YUM Brands STD of Log returns, {YUM_df_log_return_std}\")\n",
    "\n",
    "YUM_df_log_return.hist(bins=250, density=True, histtype=\"stepfilled\", alpha=.5)\n",
    "plt.title(\"Histogram of YUM! Brands, Log Returns\", weight=\"bold\")\n",
    "plt.xlabel(\"Daily Log Returns\")\n",
    "plt.ylabel(\"Frequency\")\n",
    "plt.xlim(xmin=-0.15, xmax = 0.2)\n",
    "plt.show()\n",
    "\n",
    "Q = YUM_df_log_return\n",
    "scipy.stats.probplot(Q, dist=scipy.stats.norm, plot=plt.figure().add_subplot(111))\n",
    "plt.title(\"Normal QQ-plot of YUM! Brands, Inc Log Returns\", weight=\"bold\");"
   ]
  },
  {
   "cell_type": "code",
   "execution_count": null,
   "metadata": {},
   "outputs": [],
   "source": [
    "# compare distribution charts to a high volatility stock, AMD\n",
    "# calculate log returns\n",
    "AMD_df_close = AMD_df['Close']\n",
    "AMD_df_log_return = np.log(AMD_df_close/AMD_df_close.shift(1)) \n",
    "AMD_df_log_return_avg = AMD_df_log_return.mean()\n",
    "AMD_df_log_return_std = AMD_df_log_return.std()\n",
    "\n",
    "print(f\"AMD Brands Average Log return, {AMD_df_log_return_avg}\")\n",
    "print(f\"AMD Brands STD of Log returns, {AMD_df_log_return_std}\")\n",
    "\n",
    "AMD_df_log_return.hist(bins=250, density=True, histtype=\"stepfilled\", alpha=.5)\n",
    "plt.title(\"Histogram of Advanced Micro Devices, Inc Log Returns\", weight=\"bold\")\n",
    "plt.xlabel(\"Daily Log Returns\")\n",
    "plt.ylabel(\"Frequency\")\n",
    "plt.xlim(xmin=-0.15, xmax = 0.2)\n",
    "plt.show()\n",
    "\n",
    "Q = AMD_df_log_return\n",
    "scipy.stats.probplot(Q, dist=scipy.stats.norm, plot=plt.figure().add_subplot(111))\n",
    "plt.title(\"Normal QQ-plot of Advanced Micro Devices, Inc Log Returns\", weight=\"bold\");"
   ]
  },
  {
   "cell_type": "code",
   "execution_count": null,
   "metadata": {},
   "outputs": [],
   "source": []
  },
  {
   "cell_type": "code",
   "execution_count": null,
   "metadata": {},
   "outputs": [],
   "source": [
    "# normality tests on BTC\n",
    "stat, p = normaltest(BTC_df_log_return)\n",
    "print('Statistics=%.3f, p=%.3f' % (stat, p))\n",
    "# interpret\n",
    "alpha = 0.05\n",
    "if p > alpha:\n",
    "    print('Sample looks Gaussian (fail to reject H0)')\n",
    "else:\n",
    "    print('Sample does not look Gaussian (reject H0)')"
   ]
  },
  {
   "cell_type": "code",
   "execution_count": null,
   "metadata": {},
   "outputs": [],
   "source": [
    "# normality tests on YUM\n",
    "\n",
    "stat, p = normaltest(YUM_df_log_return)\n",
    "print((stat, p))\n",
    "# interpret\n",
    "alpha = 0.05\n",
    "if p > alpha:\n",
    "    print('Sample looks Gaussian (fail to reject H0)')\n",
    "else:\n",
    "    print('Sample does not look Gaussian (reject H0)')"
   ]
  },
  {
   "cell_type": "code",
   "execution_count": null,
   "metadata": {},
   "outputs": [],
   "source": [
    "\n",
    "result = anderson(BTC_df_log_return)\n",
    "print('Statistic: %.3f' % result.statistic)\n",
    "p = 0\n",
    "for i in range(len(result.critical_values)):\n",
    "    sl, cv = result.significance_level[i], result.critical_values[i]\n",
    "    if result.statistic < result.critical_values[i]:\n",
    "        print('%.3f: %.3f, data looks normal (fail to reject H0)' % (sl, cv))\n",
    "    else:\n",
    "        print('%.3f: %.3f, data does not look normal (reject H0)' % (sl, cv))"
   ]
  },
  {
   "cell_type": "code",
   "execution_count": null,
   "metadata": {},
   "outputs": [],
   "source": [
    "\n",
    "result = anderson(YUM_df_log_return)\n",
    "print('Statistic: %.3f' % result.statistic)\n",
    "p = 0\n",
    "for i in range(len(result.critical_values)):\n",
    "    sl, cv = result.significance_level[i], result.critical_values[i]\n",
    "    if result.statistic < result.critical_values[i]:\n",
    "        print('%.3f: %.3f, data looks normal (fail to reject H0)' % (sl, cv))\n",
    "    else:\n",
    "        print('%.3f: %.3f, data does not look normal (reject H0)' % (sl, cv))"
   ]
  },
  {
   "cell_type": "code",
   "execution_count": null,
   "metadata": {},
   "outputs": [],
   "source": [
    "BTC_df_volume = BTC_df['Volume']\n",
    "BTC_df_yearly_avg_volume = BTC_df_volume.groupby([BTC_df.index.year]).mean()\n",
    "BTC_df_yearly_avg_volume\n",
    "BTC_df_yearly_avg_volume.plot(kind='bar', title='Average Volume per Year')\n"
   ]
  },
  {
   "cell_type": "code",
   "execution_count": null,
   "metadata": {},
   "outputs": [],
   "source": [
    "#which months have the highest trading volume, this could be skewed\n",
    "BTC_df_monthly_avg_volume = BTC_df_volume.groupby([BTC_df.index.month]).mean()\n",
    "BTC_df_monthly_avg_volume.plot(kind='bar', title='Historical Average Trading Volume by Month') "
   ]
  },
  {
   "cell_type": "code",
   "execution_count": null,
   "metadata": {},
   "outputs": [],
   "source": [
    "cryptocurrencies = ['BTC-USD', 'ETH-USD', 'XRP-USD', 'BCH-USD', 'LTC']\n",
    "BTC_USD = YahooFinancials('BTC-USD')\n",
    "BTC_summary = BTC_USD.get_summary_data\n",
    "BTC_USD.get_daily_low()\n",
    "BTC_USD.get_three_month_avg_daily_volume()"
   ]
  },
  {
   "cell_type": "code",
   "execution_count": null,
   "metadata": {},
   "outputs": [],
   "source": []
  },
  {
   "cell_type": "code",
   "execution_count": null,
   "metadata": {},
   "outputs": [],
   "source": [
    "BTC_df_log_return.to_csv(\"BTC_log_return.csv\")"
   ]
  },
  {
   "cell_type": "code",
   "execution_count": null,
   "metadata": {},
   "outputs": [],
   "source": [
    "BTC_df.to_csv(\"BTC trading history.csv\")"
   ]
  },
  {
   "cell_type": "code",
   "execution_count": null,
   "metadata": {},
   "outputs": [],
   "source": []
  }
 ],
 "metadata": {
  "kernelspec": {
   "display_name": "Python 3",
   "language": "python",
   "name": "python3"
  },
  "language_info": {
   "codemirror_mode": {
    "name": "ipython",
    "version": 3
   },
   "file_extension": ".py",
   "mimetype": "text/x-python",
   "name": "python",
   "nbconvert_exporter": "python",
   "pygments_lexer": "ipython3",
   "version": "3.6.8"
  }
 },
 "nbformat": 4,
 "nbformat_minor": 4
}
