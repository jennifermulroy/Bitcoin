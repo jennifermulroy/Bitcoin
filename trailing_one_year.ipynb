{
 "cells": [
  {
   "cell_type": "code",
   "execution_count": 12,
   "metadata": {},
   "outputs": [],
   "source": [
    "import pandas as pd\n",
    "import numpy as np\n",
    "import datetime \n",
    "from pandas_datareader import data as pdr\n",
    "from statsmodels.graphics.gofplots import qqplot\n",
    "from scipy.stats import normaltest\n",
    "from scipy.stats import anderson\n",
    "import scipy.stats\n",
    "import matplotlib.pyplot as plt\n",
    "import plotly.graph_objs as go\n",
    "import plotly.express as px\n",
    "import hvplot.pandas\n",
    "%matplotlib inline\n",
    "from yahoofinancials import YahooFinancials"
   ]
  },
  {
   "cell_type": "code",
   "execution_count": 72,
   "metadata": {},
   "outputs": [],
   "source": [
    "#Analyze the last year of Bitcoin data, and S&P500\n",
    "start_sp = datetime.datetime(2018, 10, 1)\n",
    "end_sp = datetime.datetime(2019, 10, 1)\n",
    "\n",
    "#create dataframes for BTC \n",
    "BTC_df_trailing_one_year = pdr.get_data_yahoo('BTC-USD', start_sp, end_sp)\n",
    "SPX_df_trailing_one_year = pdr.get_data_yahoo('^GSPC', start_sp, end_sp)\n",
    "AGG_df_trailing_one_year = pdr.get_data_yahoo('AGG', start_sp, end_sp)"
   ]
  },
  {
   "cell_type": "code",
   "execution_count": 74,
   "metadata": {},
   "outputs": [
    {
     "data": {
      "text/html": [
       "<div>\n",
       "<style scoped>\n",
       "    .dataframe tbody tr th:only-of-type {\n",
       "        vertical-align: middle;\n",
       "    }\n",
       "\n",
       "    .dataframe tbody tr th {\n",
       "        vertical-align: top;\n",
       "    }\n",
       "\n",
       "    .dataframe thead th {\n",
       "        text-align: right;\n",
       "    }\n",
       "</style>\n",
       "<table border=\"1\" class=\"dataframe\">\n",
       "  <thead>\n",
       "    <tr style=\"text-align: right;\">\n",
       "      <th></th>\n",
       "      <th>High</th>\n",
       "      <th>Low</th>\n",
       "      <th>Open</th>\n",
       "      <th>Close</th>\n",
       "      <th>Volume</th>\n",
       "      <th>Adj Close</th>\n",
       "    </tr>\n",
       "    <tr>\n",
       "      <th>Date</th>\n",
       "      <th></th>\n",
       "      <th></th>\n",
       "      <th></th>\n",
       "      <th></th>\n",
       "      <th></th>\n",
       "      <th></th>\n",
       "    </tr>\n",
       "  </thead>\n",
       "  <tbody>\n",
       "    <tr>\n",
       "      <td>2018-09-30</td>\n",
       "      <td>6653.299805</td>\n",
       "      <td>6549.080078</td>\n",
       "      <td>6619.850098</td>\n",
       "      <td>6589.620117</td>\n",
       "      <td>4000970000</td>\n",
       "      <td>6589.620117</td>\n",
       "    </tr>\n",
       "    <tr>\n",
       "      <td>2018-10-01</td>\n",
       "      <td>6611.839844</td>\n",
       "      <td>6537.899902</td>\n",
       "      <td>6593.240234</td>\n",
       "      <td>6556.100098</td>\n",
       "      <td>3979260000</td>\n",
       "      <td>6556.100098</td>\n",
       "    </tr>\n",
       "    <tr>\n",
       "      <td>2018-10-02</td>\n",
       "      <td>6571.459961</td>\n",
       "      <td>6454.029785</td>\n",
       "      <td>6553.859863</td>\n",
       "      <td>6502.589844</td>\n",
       "      <td>3887310000</td>\n",
       "      <td>6502.589844</td>\n",
       "    </tr>\n",
       "    <tr>\n",
       "      <td>2018-10-03</td>\n",
       "      <td>6603.310059</td>\n",
       "      <td>6497.910156</td>\n",
       "      <td>6497.910156</td>\n",
       "      <td>6576.689941</td>\n",
       "      <td>3838410000</td>\n",
       "      <td>6576.689941</td>\n",
       "    </tr>\n",
       "    <tr>\n",
       "      <td>2018-10-04</td>\n",
       "      <td>6623.620117</td>\n",
       "      <td>6557.410156</td>\n",
       "      <td>6574.149902</td>\n",
       "      <td>6622.479980</td>\n",
       "      <td>3671500000</td>\n",
       "      <td>6622.479980</td>\n",
       "    </tr>\n",
       "  </tbody>\n",
       "</table>\n",
       "</div>"
      ],
      "text/plain": [
       "                   High          Low         Open        Close      Volume  \\\n",
       "Date                                                                         \n",
       "2018-09-30  6653.299805  6549.080078  6619.850098  6589.620117  4000970000   \n",
       "2018-10-01  6611.839844  6537.899902  6593.240234  6556.100098  3979260000   \n",
       "2018-10-02  6571.459961  6454.029785  6553.859863  6502.589844  3887310000   \n",
       "2018-10-03  6603.310059  6497.910156  6497.910156  6576.689941  3838410000   \n",
       "2018-10-04  6623.620117  6557.410156  6574.149902  6622.479980  3671500000   \n",
       "\n",
       "              Adj Close  \n",
       "Date                     \n",
       "2018-09-30  6589.620117  \n",
       "2018-10-01  6556.100098  \n",
       "2018-10-02  6502.589844  \n",
       "2018-10-03  6576.689941  \n",
       "2018-10-04  6622.479980  "
      ]
     },
     "execution_count": 74,
     "metadata": {},
     "output_type": "execute_result"
    }
   ],
   "source": [
    "#checking for null data in BTC\n",
    "BTC_df_trailing_one_year.isnull().mean()*100\n",
    "#checking data types\n",
    "BTC_df_trailing_one_year.dtypes\n",
    "#checking number of records\n",
    "BTC_df_trailing_one_year.count()\n",
    "BTC_df_trailing_one_year.head()"
   ]
  },
  {
   "cell_type": "code",
   "execution_count": 40,
   "metadata": {},
   "outputs": [
    {
     "data": {
      "text/plain": [
       "High         253\n",
       "Low          253\n",
       "Open         253\n",
       "Close        253\n",
       "Volume       253\n",
       "Adj Close    253\n",
       "dtype: int64"
      ]
     },
     "execution_count": 40,
     "metadata": {},
     "output_type": "execute_result"
    }
   ],
   "source": [
    "#checking for null data in SPX\n",
    "SPX_df_trailing_one_year.isnull().mean()*100\n",
    "#checking data types\n",
    "SPX_df_trailing_one_year.dtypes\n",
    "#checking number of records\n",
    "SPX_df_trailing_one_year.count()"
   ]
  },
  {
   "cell_type": "code",
   "execution_count": 42,
   "metadata": {},
   "outputs": [
    {
     "data": {
      "text/plain": [
       "High         253\n",
       "Low          253\n",
       "Open         253\n",
       "Close        253\n",
       "Volume       253\n",
       "Adj Close    253\n",
       "dtype: int64"
      ]
     },
     "execution_count": 42,
     "metadata": {},
     "output_type": "execute_result"
    }
   ],
   "source": [
    "#checking for null data in AGG\n",
    "AGG_df_trailing_one_year.isnull().mean()*100\n",
    "#checking data types\n",
    "AGG_df_trailing_one_year.dtypes\n",
    "#checking number of records\n",
    "AGG_df_trailing_one_year.count()"
   ]
  },
  {
   "cell_type": "code",
   "execution_count": 75,
   "metadata": {},
   "outputs": [
    {
     "data": {
      "image/png": "[encoded data removed]",
      "text/plain": [
       "<Figure size 432x288 with 1 Axes>"
      ]
     },
     "metadata": {
      "needs_background": "light"
     },
     "output_type": "display_data"
    }
   ],
   "source": [
    "BTC_df_trailing_one_year.plot(y=\"Close\")\n",
    "plt.title(\"Bitcoin Trailing One Year Closing Price\", weight=\"bold\");\n"
   ]
  },
  {
   "cell_type": "code",
   "execution_count": 45,
   "metadata": {},
   "outputs": [
    {
     "data": {
      "image/png": "[encoded data removed]",
      "text/plain": [
       "<Figure size 432x288 with 1 Axes>"
      ]
     },
     "metadata": {
      "needs_background": "light"
     },
     "output_type": "display_data"
    }
   ],
   "source": [
    "SPX_df_trailing_one_year.plot(y=\"Close\")\n",
    "plt.title(\"S&P500 Trailing One Year Closing Price\", weight=\"bold\");"
   ]
  },
  {
   "cell_type": "code",
   "execution_count": 46,
   "metadata": {},
   "outputs": [
    {
     "data": {
      "image/png": "[encoded data removed]",
      "text/plain": [
       "<Figure size 432x288 with 1 Axes>"
      ]
     },
     "metadata": {
      "needs_background": "light"
     },
     "output_type": "display_data"
    }
   ],
   "source": [
    "AGG_df_trailing_one_year.plot(y=\"Close\")\n",
    "plt.title(\"U.S. Aggregate Bond ETF Trailing One Year Closing Price\", weight=\"bold\");"
   ]
  },
  {
   "cell_type": "code",
   "execution_count": 83,
   "metadata": {},
   "outputs": [],
   "source": [
    "#BTC closing price, daily returns, average daily returns and standard deviation\n",
    "#extracting the closing price and calculating daily returns \n",
    "BTC_df_trailing_one_year_close = (BTC_df_trailing_one_year['Close'])\n",
    "\n",
    "#calculate the daily returns \n",
    "BTC_df_trailing_one_year_daily_returns = BTC_df_trailing_one_year_close.pct_change()\n",
    "BTC_df_trailing_one_year_daily_returns = BTC_df_trailing_one_year_daily_returns.fillna(0, inplace=False)\n",
    "\n",
    "#calculate the average daily returns and standard deviation of daily returns\n",
    "BTC_df_trailing_one_year_daily_returns_avg = BTC_df_trailing_one_year_daily_returns.mean()\n",
    "BTC_df_trailing_one_year_daily_return_STD = BTC_df_trailing_one_year_daily_return.std()\n"
   ]
  },
  {
   "cell_type": "code",
   "execution_count": 65,
   "metadata": {},
   "outputs": [],
   "source": [
    "#SPX closing price, daily returns, average daily returns and standard deviation\n",
    "#extracting the closing price and calculating daily returns \n",
    "SPX_df_trailing_one_year_close = (SPX_df_trailing_one_year['Close'])\n",
    "\n",
    "#calculate the daily returns \n",
    "SPX_df_trailing_one_year_daily_returns = SPX_df_trailing_one_year_close.pct_change()\n",
    "SPX_df_trailing_one_year_daily_returns = SPX_df_trailing_one_year_daily_returns.fillna(0, inplace=False)\n",
    "\n",
    "\n",
    "#calculate the average daily returns and standard deviation of daily returns\n",
    "SPX_df_trailing_one_year_daily_returns_avg = SPX_df_trailing_one_year_daily_returns.mean()\n",
    "SPX_df_trailing_one_year_daily_return_STD = SPX_df_trailing_one_year_daily_return.std()"
   ]
  },
  {
   "cell_type": "code",
   "execution_count": 66,
   "metadata": {},
   "outputs": [
    {
     "data": {
      "text/plain": [
       "Date\n",
       "2018-10-01    0.000000\n",
       "2018-10-02   -0.000397\n",
       "2018-10-03    0.000712\n",
       "2018-10-04   -0.008169\n",
       "2018-10-05   -0.005528\n",
       "Name: Close, dtype: float64"
      ]
     },
     "execution_count": 66,
     "metadata": {},
     "output_type": "execute_result"
    }
   ],
   "source": [
    "SPX_df_trailing_one_year_daily_returns.head()"
   ]
  },
  {
   "cell_type": "code",
   "execution_count": 62,
   "metadata": {},
   "outputs": [],
   "source": [
    "#AGG closing price, daily returns, average daily returns and standard deviation\n",
    "#extracting the closing price and calculating daily returns \n",
    "AGG_df_trailing_one_year_close = (AGG_df_trailing_one_year['Close'])\n",
    "\n",
    "#calculate the daily returns \n",
    "AGG_df_trailing_one_year_daily_returns = AGG_df_trailing_one_year_close.pct_change()\n",
    "AGG_df_trailing_one_year_daily_returns = AGG_df_trailing_one_year_daily_returns.fillna(0, inplace=False)\n",
    "\n",
    "#calculate the average daily returns and standard deviation of daily returns\n",
    "AGG_df_trailing_one_year_daily_returns_avg = AGG_df_trailing_one_year_daily_returns.mean()\n",
    "AGG_df_trailing_one_year_daily_return_STD = AGG_df_trailing_one_year_daily_returns.std()"
   ]
  },
  {
   "cell_type": "code",
   "execution_count": 63,
   "metadata": {},
   "outputs": [
    {
     "data": {
      "text/plain": [
       "Date\n",
       "2018-10-01    0.000000\n",
       "2018-10-02    0.001140\n",
       "2018-10-03   -0.004746\n",
       "2018-10-04   -0.002861\n",
       "2018-10-05   -0.002200\n",
       "Name: Close, dtype: float64"
      ]
     },
     "execution_count": 63,
     "metadata": {},
     "output_type": "execute_result"
    }
   ],
   "source": [
    "AGG_df_trailing_one_year_daily_returns.head()"
   ]
  },
  {
   "cell_type": "code",
   "execution_count": 93,
   "metadata": {},
   "outputs": [
    {
     "name": "stdout",
     "output_type": "stream",
     "text": [
      " Bitcoin Trailing One Year Sharpe Ratio: 0.6929923270649242\n",
      " S&P 500 Trailing One Year Sharpe Ratio: 0.008019596830039227\n",
      " AGG Trailing One Year Sharpe Ratio: 2.3633334487005824\n"
     ]
    }
   ],
   "source": [
    "#Compare the trailing one year Sharpe Ratio\n",
    "\n",
    "sharpe_ratio_BTC_trailing = (BTC_df_trailing_one_year_daily_returns_avg * 366) / (BTC_df_trailing_one_year_daily_return_STD * np.sqrt(366))\n",
    "print(f\" Bitcoin Trailing One Year Sharpe Ratio: {sharpe_ratio_BTC_trailing}\")\n",
    "\n",
    "sharpe_ratio_SPX_trailing = (SPX_df_trailing_one_year_daily_returns_avg * 252) / (SPX_df_trailing_one_year_daily_return_STD * np.sqrt(252))\n",
    "print(f\" S&P 500 Trailing One Year Sharpe Ratio: {sharpe_ratio_SPX_trailing}\")\n",
    "\n",
    "sharpe_ratio_AGG_trailing = (AGG_df_trailing_one_year_daily_returns_avg * 252) / (AGG_df_trailing_one_year_daily_return_STD * np.sqrt(252))\n",
    "print(f\" AGG Trailing One Year Sharpe Ratio: {sharpe_ratio_AGG_trailing}\")"
   ]
  },
  {
   "cell_type": "code",
   "execution_count": 144,
   "metadata": {},
   "outputs": [
    {
     "data": {
      "text/html": [
       "<div>\n",
       "<style scoped>\n",
       "    .dataframe tbody tr th:only-of-type {\n",
       "        vertical-align: middle;\n",
       "    }\n",
       "\n",
       "    .dataframe tbody tr th {\n",
       "        vertical-align: top;\n",
       "    }\n",
       "\n",
       "    .dataframe thead th {\n",
       "        text-align: right;\n",
       "    }\n",
       "</style>\n",
       "<table border=\"1\" class=\"dataframe\">\n",
       "  <thead>\n",
       "    <tr style=\"text-align: right;\">\n",
       "      <th></th>\n",
       "      <th>Date</th>\n",
       "      <th>BTC Daily Returns</th>\n",
       "    </tr>\n",
       "  </thead>\n",
       "  <tbody>\n",
       "    <tr>\n",
       "      <td>0</td>\n",
       "      <td>2018-09-30</td>\n",
       "      <td>0.000000</td>\n",
       "    </tr>\n",
       "    <tr>\n",
       "      <td>1</td>\n",
       "      <td>2018-10-01</td>\n",
       "      <td>-0.005087</td>\n",
       "    </tr>\n",
       "    <tr>\n",
       "      <td>2</td>\n",
       "      <td>2018-10-02</td>\n",
       "      <td>-0.008162</td>\n",
       "    </tr>\n",
       "    <tr>\n",
       "      <td>3</td>\n",
       "      <td>2018-10-03</td>\n",
       "      <td>0.011395</td>\n",
       "    </tr>\n",
       "    <tr>\n",
       "      <td>4</td>\n",
       "      <td>2018-10-04</td>\n",
       "      <td>0.006962</td>\n",
       "    </tr>\n",
       "  </tbody>\n",
       "</table>\n",
       "</div>"
      ],
      "text/plain": [
       "        Date  BTC Daily Returns\n",
       "0 2018-09-30           0.000000\n",
       "1 2018-10-01          -0.005087\n",
       "2 2018-10-02          -0.008162\n",
       "3 2018-10-03           0.011395\n",
       "4 2018-10-04           0.006962"
      ]
     },
     "execution_count": 144,
     "metadata": {},
     "output_type": "execute_result"
    }
   ],
   "source": [
    "#resetting the BTC time series of daily returns to a dataframe to be used to calculate the Sortino ratio\n",
    "BTC_df_trailing_one_year_daily_returns = BTC_df_trailing_one_year_daily_returns.reset_index()\n",
    "\n",
    "#renaming closing price with daily returns \n",
    "BTC_df_trailing_one_year_daily_returns = BTC_df_trailing_one_year_daily_returns.rename(columns = {\"Daily Returns\": \"BTC Daily Returns\"}) \n",
    "BTC_df_trailing_one_year_daily_returns.head()"
   ]
  },
  {
   "cell_type": "code",
   "execution_count": 96,
   "metadata": {},
   "outputs": [
    {
     "name": "stdout",
     "output_type": "stream",
     "text": [
      " Bitcoin One Year Trailing Sortino Ratio: 0.05312953458264416\n"
     ]
    }
   ],
   "source": [
    "#calculating the Sortino Ratio, excess return per unit of downside risk\n",
    "rfr = 0\n",
    "target = 0\n",
    "\n",
    "BTC_df_trailing_one_year_daily_returns['downside_returns'] = 0\n",
    "BTC_df_trailing_one_year_daily_returns.loc[BTC_df_trailing_one_year_daily_returns['Daily Returns'] < target, 'downside_returns'] = BTC_df_trailing_one_year_daily_returns['Daily Returns']**2\n",
    "expected_return = BTC_df_trailing_one_year_daily_returns['Daily Returns'].mean()\n",
    "down_stdev = np.sqrt(BTC_df_trailing_one_year_daily_returns['downside_returns'].mean())\n",
    "sortino_ratio_one_year_trailing_BTC = (expected_return - rfr)/down_stdev\n",
    "print(f\" Bitcoin One Year Trailing Sortino Ratio: {sortino_ratio_one_year_trailing_BTC}\")"
   ]
  },
  {
   "cell_type": "code",
   "execution_count": 138,
   "metadata": {},
   "outputs": [
    {
     "data": {
      "text/html": [
       "<div>\n",
       "<style scoped>\n",
       "    .dataframe tbody tr th:only-of-type {\n",
       "        vertical-align: middle;\n",
       "    }\n",
       "\n",
       "    .dataframe tbody tr th {\n",
       "        vertical-align: top;\n",
       "    }\n",
       "\n",
       "    .dataframe thead th {\n",
       "        text-align: right;\n",
       "    }\n",
       "</style>\n",
       "<table border=\"1\" class=\"dataframe\">\n",
       "  <thead>\n",
       "    <tr style=\"text-align: right;\">\n",
       "      <th></th>\n",
       "      <th>Date</th>\n",
       "      <th>Daily Returns</th>\n",
       "    </tr>\n",
       "  </thead>\n",
       "  <tbody>\n",
       "    <tr>\n",
       "      <td>0</td>\n",
       "      <td>2018-09-30</td>\n",
       "      <td>0.000000</td>\n",
       "    </tr>\n",
       "    <tr>\n",
       "      <td>1</td>\n",
       "      <td>2018-10-01</td>\n",
       "      <td>-0.005087</td>\n",
       "    </tr>\n",
       "    <tr>\n",
       "      <td>2</td>\n",
       "      <td>2018-10-02</td>\n",
       "      <td>-0.008162</td>\n",
       "    </tr>\n",
       "    <tr>\n",
       "      <td>3</td>\n",
       "      <td>2018-10-03</td>\n",
       "      <td>0.011395</td>\n",
       "    </tr>\n",
       "    <tr>\n",
       "      <td>4</td>\n",
       "      <td>2018-10-04</td>\n",
       "      <td>0.006962</td>\n",
       "    </tr>\n",
       "  </tbody>\n",
       "</table>\n",
       "</div>"
      ],
      "text/plain": [
       "        Date  Daily Returns\n",
       "0 2018-09-30       0.000000\n",
       "1 2018-10-01      -0.005087\n",
       "2 2018-10-02      -0.008162\n",
       "3 2018-10-03       0.011395\n",
       "4 2018-10-04       0.006962"
      ]
     },
     "execution_count": 138,
     "metadata": {},
     "output_type": "execute_result"
    }
   ],
   "source": [
    "BTC_df_trailing_one_year_daily_returns = BTC_df_trailing_one_year_daily_returns.drop('downside_returns', axis=1)\n",
    "BTC_df_trailing_one_year_daily_returns.head()"
   ]
  },
  {
   "cell_type": "code",
   "execution_count": 143,
   "metadata": {},
   "outputs": [
    {
     "data": {
      "text/html": [
       "<div>\n",
       "<style scoped>\n",
       "    .dataframe tbody tr th:only-of-type {\n",
       "        vertical-align: middle;\n",
       "    }\n",
       "\n",
       "    .dataframe tbody tr th {\n",
       "        vertical-align: top;\n",
       "    }\n",
       "\n",
       "    .dataframe thead th {\n",
       "        text-align: right;\n",
       "    }\n",
       "</style>\n",
       "<table border=\"1\" class=\"dataframe\">\n",
       "  <thead>\n",
       "    <tr style=\"text-align: right;\">\n",
       "      <th></th>\n",
       "      <th>Date</th>\n",
       "      <th>SPX Daily Returns</th>\n",
       "    </tr>\n",
       "  </thead>\n",
       "  <tbody>\n",
       "    <tr>\n",
       "      <td>0</td>\n",
       "      <td>2018-09-30</td>\n",
       "      <td>0.000000</td>\n",
       "    </tr>\n",
       "    <tr>\n",
       "      <td>1</td>\n",
       "      <td>2018-10-01</td>\n",
       "      <td>-0.005087</td>\n",
       "    </tr>\n",
       "    <tr>\n",
       "      <td>2</td>\n",
       "      <td>2018-10-02</td>\n",
       "      <td>-0.008162</td>\n",
       "    </tr>\n",
       "    <tr>\n",
       "      <td>3</td>\n",
       "      <td>2018-10-03</td>\n",
       "      <td>0.011395</td>\n",
       "    </tr>\n",
       "    <tr>\n",
       "      <td>4</td>\n",
       "      <td>2018-10-04</td>\n",
       "      <td>0.006962</td>\n",
       "    </tr>\n",
       "  </tbody>\n",
       "</table>\n",
       "</div>"
      ],
      "text/plain": [
       "        Date  SPX Daily Returns\n",
       "0 2018-09-30           0.000000\n",
       "1 2018-10-01          -0.005087\n",
       "2 2018-10-02          -0.008162\n",
       "3 2018-10-03           0.011395\n",
       "4 2018-10-04           0.006962"
      ]
     },
     "execution_count": 143,
     "metadata": {},
     "output_type": "execute_result"
    }
   ],
   "source": [
    "#resetting the SPX time series of daily returns to a dataframe to be used to calculate the Sortino ratio\n",
    "SPX_df_trailing_one_year_daily_returns = SPX_df_trailing_one_year_daily_returns.reset_index()\n",
    "\n",
    "#renaming closing price with daily returns  \n",
    "SPX_df_trailing_one_year_daily_returns = BTC_df_trailing_one_year_daily_returns.rename(columns = {\"Daily Returns\": \"SPX Daily Returns\"}) \n",
    "SPX_df_trailing_one_year_daily_returns.head()"
   ]
  },
  {
   "cell_type": "code",
   "execution_count": 107,
   "metadata": {},
   "outputs": [],
   "source": [
    "#calculating the SPX Sortino Ratio, excess return per unit of downside risk\n",
    "rfr = 0\n",
    "target = 0\n",
    "\n",
    "SPX_df_trailing_one_year_daily_returns['Downside_Returns'] = 0\n",
    "SPX_df_trailing_one_year_daily_returns.loc[SPX_df_trailing_one_year_daily_returns['Daily Returns'] < target, 'Downside_Returns'] = SPX_df_trailing_one_year_daily_returns['Daily Returns']**2\n",
    "expected_return = SPX_df_trailing_one_year_daily_returns['Daily Returns'].mean()\n",
    "down_stdev = np.sqrt(SPX_df_trailing_one_year_daily_returns['Downside_Returns'].mean())\n",
    "sortino_ratio_one_year_trailing_SPX = (expected_return - rfr)/down_stdev"
   ]
  },
  {
   "cell_type": "code",
   "execution_count": 108,
   "metadata": {},
   "outputs": [
    {
     "name": "stdout",
     "output_type": "stream",
     "text": [
      " SPX One Year Trailing Sortino Ratio: 0.0006855934448519404\n"
     ]
    }
   ],
   "source": [
    "print(f\" SPX One Year Trailing Sortino Ratio: {sortino_ratio_one_year_trailing_SPX}\")"
   ]
  },
  {
   "cell_type": "code",
   "execution_count": 135,
   "metadata": {},
   "outputs": [
    {
     "data": {
      "text/html": [
       "<div>\n",
       "<style scoped>\n",
       "    .dataframe tbody tr th:only-of-type {\n",
       "        vertical-align: middle;\n",
       "    }\n",
       "\n",
       "    .dataframe tbody tr th {\n",
       "        vertical-align: top;\n",
       "    }\n",
       "\n",
       "    .dataframe thead th {\n",
       "        text-align: right;\n",
       "    }\n",
       "</style>\n",
       "<table border=\"1\" class=\"dataframe\">\n",
       "  <thead>\n",
       "    <tr style=\"text-align: right;\">\n",
       "      <th></th>\n",
       "      <th>Date</th>\n",
       "      <th>Daily Returns</th>\n",
       "    </tr>\n",
       "  </thead>\n",
       "  <tbody>\n",
       "    <tr>\n",
       "      <td>0</td>\n",
       "      <td>2018-10-01</td>\n",
       "      <td>0.000000</td>\n",
       "    </tr>\n",
       "    <tr>\n",
       "      <td>1</td>\n",
       "      <td>2018-10-02</td>\n",
       "      <td>-0.000397</td>\n",
       "    </tr>\n",
       "    <tr>\n",
       "      <td>2</td>\n",
       "      <td>2018-10-03</td>\n",
       "      <td>0.000712</td>\n",
       "    </tr>\n",
       "    <tr>\n",
       "      <td>3</td>\n",
       "      <td>2018-10-04</td>\n",
       "      <td>-0.008169</td>\n",
       "    </tr>\n",
       "    <tr>\n",
       "      <td>4</td>\n",
       "      <td>2018-10-05</td>\n",
       "      <td>-0.005528</td>\n",
       "    </tr>\n",
       "  </tbody>\n",
       "</table>\n",
       "</div>"
      ],
      "text/plain": [
       "        Date  Daily Returns\n",
       "0 2018-10-01       0.000000\n",
       "1 2018-10-02      -0.000397\n",
       "2 2018-10-03       0.000712\n",
       "3 2018-10-04      -0.008169\n",
       "4 2018-10-05      -0.005528"
      ]
     },
     "execution_count": 135,
     "metadata": {},
     "output_type": "execute_result"
    }
   ],
   "source": [
    "SPX_df_trailing_one_year_daily_returns = SPX_df_trailing_one_year_daily_returns.drop('Downside_Returns', axis=1)\n",
    "SPX_df_trailing_one_year_daily_returns.head()"
   ]
  },
  {
   "cell_type": "code",
   "execution_count": 142,
   "metadata": {},
   "outputs": [
    {
     "data": {
      "text/html": [
       "<div>\n",
       "<style scoped>\n",
       "    .dataframe tbody tr th:only-of-type {\n",
       "        vertical-align: middle;\n",
       "    }\n",
       "\n",
       "    .dataframe tbody tr th {\n",
       "        vertical-align: top;\n",
       "    }\n",
       "\n",
       "    .dataframe thead th {\n",
       "        text-align: right;\n",
       "    }\n",
       "</style>\n",
       "<table border=\"1\" class=\"dataframe\">\n",
       "  <thead>\n",
       "    <tr style=\"text-align: right;\">\n",
       "      <th></th>\n",
       "      <th>Date</th>\n",
       "      <th>AGG Daily Returns</th>\n",
       "    </tr>\n",
       "  </thead>\n",
       "  <tbody>\n",
       "    <tr>\n",
       "      <td>0</td>\n",
       "      <td>2018-10-01</td>\n",
       "      <td>0.000000</td>\n",
       "    </tr>\n",
       "    <tr>\n",
       "      <td>1</td>\n",
       "      <td>2018-10-02</td>\n",
       "      <td>0.001140</td>\n",
       "    </tr>\n",
       "    <tr>\n",
       "      <td>2</td>\n",
       "      <td>2018-10-03</td>\n",
       "      <td>-0.004746</td>\n",
       "    </tr>\n",
       "    <tr>\n",
       "      <td>3</td>\n",
       "      <td>2018-10-04</td>\n",
       "      <td>-0.002861</td>\n",
       "    </tr>\n",
       "    <tr>\n",
       "      <td>4</td>\n",
       "      <td>2018-10-05</td>\n",
       "      <td>-0.002200</td>\n",
       "    </tr>\n",
       "  </tbody>\n",
       "</table>\n",
       "</div>"
      ],
      "text/plain": [
       "        Date  AGG Daily Returns\n",
       "0 2018-10-01           0.000000\n",
       "1 2018-10-02           0.001140\n",
       "2 2018-10-03          -0.004746\n",
       "3 2018-10-04          -0.002861\n",
       "4 2018-10-05          -0.002200"
      ]
     },
     "execution_count": 142,
     "metadata": {},
     "output_type": "execute_result"
    }
   ],
   "source": [
    "#resetting the AGG time series of daily returns to a dataframe to be used to calculate the Sortino ratio\n",
    "AGG_df_trailing_one_year_daily_returns = AGG_df_trailing_one_year_daily_returns.reset_index()\n",
    "\n",
    "#renaming closing price with daily returns \n",
    "AGG_df_trailing_one_year_daily_returns = AGG_df_trailing_one_year_daily_returns.rename(columns = {\"Daily Returns\": \"AGG Daily Returns\"}) \n",
    "AGG_df_trailing_one_year_daily_returns.head()"
   ]
  },
  {
   "cell_type": "code",
   "execution_count": 118,
   "metadata": {},
   "outputs": [],
   "source": [
    "#calculating the SPX Sortino Ratio, excess return per unit of downside risk\n",
    "rfr = 0\n",
    "target = 0\n",
    "\n",
    "AGG_df_trailing_one_year_daily_returns['Downside_Returns'] = 0\n",
    "AGG_df_trailing_one_year_daily_returns.loc[AGG_df_trailing_one_year_daily_returns['Daily Returns'] < target, 'Downside_Returns'] = AGG_df_trailing_one_year_daily_returns['Daily Returns']**2\n",
    "expected_return = AGG_df_trailing_one_year_daily_returns['Daily Returns'].mean()\n",
    "down_stdev = np.sqrt(AGG_df_trailing_one_year_daily_returns['Downside_Returns'].mean())\n",
    "sortino_ratio_one_year_trailing_AGG = (expected_return - rfr)/down_stdev"
   ]
  },
  {
   "cell_type": "code",
   "execution_count": 119,
   "metadata": {},
   "outputs": [
    {
     "name": "stdout",
     "output_type": "stream",
     "text": [
      " AGG One Year Trailing Sortino Ratio: 0.22291502939931693\n"
     ]
    }
   ],
   "source": [
    "print(f\" AGG One Year Trailing Sortino Ratio: {sortino_ratio_one_year_trailing_AGG}\")"
   ]
  },
  {
   "cell_type": "code",
   "execution_count": 134,
   "metadata": {},
   "outputs": [
    {
     "data": {
      "text/html": [
       "<div>\n",
       "<style scoped>\n",
       "    .dataframe tbody tr th:only-of-type {\n",
       "        vertical-align: middle;\n",
       "    }\n",
       "\n",
       "    .dataframe tbody tr th {\n",
       "        vertical-align: top;\n",
       "    }\n",
       "\n",
       "    .dataframe thead th {\n",
       "        text-align: right;\n",
       "    }\n",
       "</style>\n",
       "<table border=\"1\" class=\"dataframe\">\n",
       "  <thead>\n",
       "    <tr style=\"text-align: right;\">\n",
       "      <th></th>\n",
       "      <th>Date</th>\n",
       "      <th>Daily Returns</th>\n",
       "    </tr>\n",
       "  </thead>\n",
       "  <tbody>\n",
       "    <tr>\n",
       "      <td>0</td>\n",
       "      <td>2018-10-01</td>\n",
       "      <td>0.000000</td>\n",
       "    </tr>\n",
       "    <tr>\n",
       "      <td>1</td>\n",
       "      <td>2018-10-02</td>\n",
       "      <td>0.001140</td>\n",
       "    </tr>\n",
       "    <tr>\n",
       "      <td>2</td>\n",
       "      <td>2018-10-03</td>\n",
       "      <td>-0.004746</td>\n",
       "    </tr>\n",
       "    <tr>\n",
       "      <td>3</td>\n",
       "      <td>2018-10-04</td>\n",
       "      <td>-0.002861</td>\n",
       "    </tr>\n",
       "    <tr>\n",
       "      <td>4</td>\n",
       "      <td>2018-10-05</td>\n",
       "      <td>-0.002200</td>\n",
       "    </tr>\n",
       "  </tbody>\n",
       "</table>\n",
       "</div>"
      ],
      "text/plain": [
       "        Date  Daily Returns\n",
       "0 2018-10-01       0.000000\n",
       "1 2018-10-02       0.001140\n",
       "2 2018-10-03      -0.004746\n",
       "3 2018-10-04      -0.002861\n",
       "4 2018-10-05      -0.002200"
      ]
     },
     "execution_count": 134,
     "metadata": {},
     "output_type": "execute_result"
    }
   ],
   "source": [
    "AGG_df_trailing_one_year_daily_returns = AGG_df_trailing_one_year_daily_returns.drop('Downside_Returns', axis=1)\n",
    "AGG_df_trailing_one_year_daily_returns.head()"
   ]
  },
  {
   "cell_type": "code",
   "execution_count": 121,
   "metadata": {},
   "outputs": [
    {
     "data": {
      "text/plain": [
       "0.0002901259439836296"
      ]
     },
     "execution_count": 121,
     "metadata": {},
     "output_type": "execute_result"
    }
   ],
   "source": [
    "AGG_df_trailing_one_year_daily_returns['Daily Returns'].mean()"
   ]
  },
  {
   "cell_type": "code",
   "execution_count": null,
   "metadata": {},
   "outputs": [],
   "source": []
  },
  {
   "cell_type": "code",
   "execution_count": null,
   "metadata": {},
   "outputs": [],
   "source": []
  },
  {
   "cell_type": "code",
   "execution_count": null,
   "metadata": {},
   "outputs": [],
   "source": []
  },
  {
   "cell_type": "code",
   "execution_count": null,
   "metadata": {},
   "outputs": [],
   "source": []
  }
 ],
 "metadata": {
  "kernelspec": {
   "display_name": "Python 3",
   "language": "python",
   "name": "python3"
  },
  "language_info": {
   "codemirror_mode": {
    "name": "ipython",
    "version": 3
   },
   "file_extension": ".py",
   "mimetype": "text/x-python",
   "name": "python",
   "nbconvert_exporter": "python",
   "pygments_lexer": "ipython3",
   "version": "3.7.3"
  }
 },
 "nbformat": 4,
 "nbformat_minor": 4
}
